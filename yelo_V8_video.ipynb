{
  "nbformat": 4,
  "nbformat_minor": 0,
  "metadata": {
    "colab": {
      "provenance": [],
      "gpuType": "T4",
      "authorship_tag": "ABX9TyNC/Go6KeUkulc0MGCKYDq5",
      "include_colab_link": true
    },
    "kernelspec": {
      "name": "python3",
      "display_name": "Python 3"
    },
    "language_info": {
      "name": "python"
    },
    "accelerator": "GPU"
  },
  "cells": [
    {
      "cell_type": "markdown",
      "metadata": {
        "id": "view-in-github",
        "colab_type": "text"
      },
      "source": [
        "<a href=\"https://colab.research.google.com/github/CHOESEUNGJUN/NVIDA/blob/1.1/yelo_V8_video.ipynb\" target=\"_parent\"><img src=\"https://colab.research.google.com/assets/colab-badge.svg\" alt=\"Open In Colab\"/></a>"
      ]
    },
    {
      "cell_type": "code",
      "execution_count": null,
      "metadata": {
        "id": "JiUoDyEhQkwx"
      },
      "outputs": [],
      "source": [
        "!pip install yt-dlp -q\n",
        "!pip install ultralytics -q"
      ]
    },
    {
      "cell_type": "code",
      "source": [
        "import cv2\n",
        "import os\n",
        "from ultralytics import YOLO\n",
        "import yt_dlp"
      ],
      "metadata": {
        "id": "_QJZdHt4Ryd4"
      },
      "execution_count": null,
      "outputs": []
    },
    {
      "cell_type": "markdown",
      "source": [],
      "metadata": {
        "id": "vjJfKk59Zzt-"
      }
    },
    {
      "cell_type": "code",
      "source": [
        "youtube_url = \"https://www.youtube.com/shorts/7xblEeUsGIA\"\n",
        "output_video_path = \"input_video.mp4\"\n",
        "\n",
        "ydl_opts = {\n",
        "    'format': 'bestvideo+bestaudio/best',\n",
        "    'outtmpl': output_video_path,\n",
        "    'merge_output_format': 'mp4'\n",
        "}\n",
        "\n",
        "with yt_dlp.YoutubeDL(ydl_opts) as ydl:\n",
        "    ydl.download([youtube_url])"
      ],
      "metadata": {
        "colab": {
          "base_uri": "https://localhost:8080/"
        },
        "id": "BvfN_tbuZ2Gv",
        "outputId": "6d879e11-8b7c-49bf-cf1b-a7d37329571f"
      },
      "execution_count": null,
      "outputs": [
        {
          "output_type": "stream",
          "name": "stdout",
          "text": [
            "[youtube] Extracting URL: https://www.youtube.com/shorts/7xblEeUsGIA\n",
            "[youtube] 7xblEeUsGIA: Downloading webpage\n",
            "[youtube] 7xblEeUsGIA: Downloading tv client config\n",
            "[youtube] 7xblEeUsGIA: Downloading player 73381ccc-main\n",
            "[youtube] 7xblEeUsGIA: Downloading tv player API JSON\n",
            "[youtube] 7xblEeUsGIA: Downloading ios player API JSON\n",
            "[youtube] 7xblEeUsGIA: Downloading m3u8 information\n",
            "[info] 7xblEeUsGIA: Downloading 1 format(s): 271+251\n",
            "[download] input_video.mp4 has already been downloaded\n"
          ]
        }
      ]
    },
    {
      "cell_type": "code",
      "source": [
        "model = YOLO(\"yolov8n.pt\")\n",
        "\n",
        "# 5. 영상 읽기\n",
        "cap = cv2.VideoCapture(output_video_path)\n",
        "width  = int(cap.get(cv2.CAP_PROP_FRAME_WIDTH))\n",
        "height = int(cap.get(cv2.CAP_PROP_FRAME_HEIGHT))\n",
        "fps = cap.get(cv2.CAP_PROP_FPS)\n",
        "\n",
        "# 6. 출력 비디오 설정\n",
        "output_path = 'output_video.mp4'\n",
        "fourcc = cv2.VideoWriter_fourcc(*'mp4v')\n",
        "out = cv2.VideoWriter(output_path, fourcc, fps, (width, height))"
      ],
      "metadata": {
        "id": "sOGDTzvkb7lk"
      },
      "execution_count": null,
      "outputs": []
    },
    {
      "cell_type": "code",
      "source": [
        "frame_count = 0\n",
        "while cap.isOpened():\n",
        "    ret, frame = cap.read()\n",
        "    if not ret or frame is None:\n",
        "        print(\"❌ 더 이상 프레임이 없거나 읽기 실패. 루프 종료.\")\n",
        "        break\n",
        "\n",
        "    try:\n",
        "        results = model(frame, verbose=False)\n",
        "        annotated = results[0].plot()\n",
        "        out.write(annotated)\n",
        "        frame_count += 1\n",
        "        if frame_count % 30 == 0:\n",
        "            print(f\"🌀 {frame_count}프레임 처리 완료\")\n",
        "    except Exception as e:\n",
        "        print(f\"⚠️ 프레임 처리 중 오류 발생: {e}\")\n",
        "        break"
      ],
      "metadata": {
        "colab": {
          "base_uri": "https://localhost:8080/"
        },
        "id": "mzlE3SnsdaFb",
        "outputId": "8fc58d25-f8c0-4e8e-e55b-e0ba3a38129c"
      },
      "execution_count": null,
      "outputs": [
        {
          "output_type": "stream",
          "name": "stdout",
          "text": [
            "🌀 30프레임 처리 완료\n",
            "🌀 60프레임 처리 완료\n",
            "🌀 90프레임 처리 완료\n",
            "🌀 120프레임 처리 완료\n",
            "🌀 150프레임 처리 완료\n",
            "🌀 180프레임 처리 완료\n",
            "🌀 210프레임 처리 완료\n",
            "🌀 240프레임 처리 완료\n",
            "🌀 270프레임 처리 완료\n",
            "🌀 300프레임 처리 완료\n",
            "🌀 330프레임 처리 완료\n",
            "🌀 360프레임 처리 완료\n",
            "🌀 390프레임 처리 완료\n",
            "🌀 420프레임 처리 완료\n",
            "🌀 450프레임 처리 완료\n",
            "❌ 더 이상 프레임이 없거나 읽기 실패. 루프 종료.\n"
          ]
        }
      ]
    },
    {
      "cell_type": "code",
      "source": [
        "cap.release()\n",
        "out.release()"
      ],
      "metadata": {
        "id": "VEgYMYCDdcpB"
      },
      "execution_count": null,
      "outputs": []
    },
    {
      "cell_type": "code",
      "source": [],
      "metadata": {
        "id": "e8Ua6DUjkAz6"
      },
      "execution_count": null,
      "outputs": []
    },
    {
      "cell_type": "code",
      "source": [
        "from google.colab import files\n",
        "\n",
        "# YOLO 결과 영상 다운로드\n",
        "files.download(\"output_video.mp4\")  # 또는 final_output.mp4"
      ],
      "metadata": {
        "colab": {
          "base_uri": "https://localhost:8080/",
          "height": 17
        },
        "id": "0oaxYkGykmhB",
        "outputId": "ca3216e5-fae6-454b-caad-63df1a099772"
      },
      "execution_count": null,
      "outputs": [
        {
          "output_type": "display_data",
          "data": {
            "text/plain": [
              "<IPython.core.display.Javascript object>"
            ],
            "application/javascript": [
              "\n",
              "    async function download(id, filename, size) {\n",
              "      if (!google.colab.kernel.accessAllowed) {\n",
              "        return;\n",
              "      }\n",
              "      const div = document.createElement('div');\n",
              "      const label = document.createElement('label');\n",
              "      label.textContent = `Downloading \"${filename}\": `;\n",
              "      div.appendChild(label);\n",
              "      const progress = document.createElement('progress');\n",
              "      progress.max = size;\n",
              "      div.appendChild(progress);\n",
              "      document.body.appendChild(div);\n",
              "\n",
              "      const buffers = [];\n",
              "      let downloaded = 0;\n",
              "\n",
              "      const channel = await google.colab.kernel.comms.open(id);\n",
              "      // Send a message to notify the kernel that we're ready.\n",
              "      channel.send({})\n",
              "\n",
              "      for await (const message of channel.messages) {\n",
              "        // Send a message to notify the kernel that we're ready.\n",
              "        channel.send({})\n",
              "        if (message.buffers) {\n",
              "          for (const buffer of message.buffers) {\n",
              "            buffers.push(buffer);\n",
              "            downloaded += buffer.byteLength;\n",
              "            progress.value = downloaded;\n",
              "          }\n",
              "        }\n",
              "      }\n",
              "      const blob = new Blob(buffers, {type: 'application/binary'});\n",
              "      const a = document.createElement('a');\n",
              "      a.href = window.URL.createObjectURL(blob);\n",
              "      a.download = filename;\n",
              "      div.appendChild(a);\n",
              "      a.click();\n",
              "      div.remove();\n",
              "    }\n",
              "  "
            ]
          },
          "metadata": {}
        },
        {
          "output_type": "display_data",
          "data": {
            "text/plain": [
              "<IPython.core.display.Javascript object>"
            ],
            "application/javascript": [
              "download(\"download_df83bf7a-c50f-4672-92c7-450c69cd58db\", \"output_video.mp4\", 25228206)"
            ]
          },
          "metadata": {}
        }
      ]
    },
    {
      "cell_type": "code",
      "source": [],
      "metadata": {
        "id": "dRbJbDFFkpGZ"
      },
      "execution_count": null,
      "outputs": []
    }
  ]
}